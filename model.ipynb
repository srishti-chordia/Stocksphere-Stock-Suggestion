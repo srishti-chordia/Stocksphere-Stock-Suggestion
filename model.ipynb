{
 "cells": [
  {
   "cell_type": "code",
   "execution_count": 1,
   "id": "2a2ab2c7",
   "metadata": {},
   "outputs": [
    {
     "name": "stdout",
     "output_type": "stream",
     "text": [
      "Collecting yfinance\n",
      "  Downloading yfinance-0.2.66-py2.py3-none-any.whl.metadata (6.0 kB)\n",
      "Requirement already satisfied: pandas in c:\\users\\srishti\\anaconda3\\envs\\machinelearning\\lib\\site-packages (2.2.1)\n",
      "Requirement already satisfied: numpy in c:\\users\\srishti\\anaconda3\\envs\\machinelearning\\lib\\site-packages (1.26.4)\n",
      "Requirement already satisfied: scikit-learn in c:\\users\\srishti\\anaconda3\\envs\\machinelearning\\lib\\site-packages (1.7.2)\n",
      "Requirement already satisfied: matplotlib in c:\\users\\srishti\\anaconda3\\envs\\machinelearning\\lib\\site-packages (3.8.3)\n",
      "Requirement already satisfied: requests>=2.31 in c:\\users\\srishti\\anaconda3\\envs\\machinelearning\\lib\\site-packages (from yfinance) (2.32.5)\n",
      "Collecting multitasking>=0.0.7 (from yfinance)\n",
      "  Downloading multitasking-0.0.12.tar.gz (19 kB)\n",
      "  Preparing metadata (setup.py): started\n",
      "  Preparing metadata (setup.py): finished with status 'done'\n",
      "Requirement already satisfied: platformdirs>=2.0.0 in c:\\users\\srishti\\anaconda3\\envs\\machinelearning\\lib\\site-packages (from yfinance) (3.10.0)\n",
      "Requirement already satisfied: pytz>=2022.5 in c:\\users\\srishti\\anaconda3\\envs\\machinelearning\\lib\\site-packages (from yfinance) (2023.3.post1)\n",
      "Collecting frozendict>=2.3.4 (from yfinance)\n",
      "  Downloading frozendict-2.4.6-py311-none-any.whl.metadata (23 kB)\n",
      "Collecting peewee>=3.16.2 (from yfinance)\n",
      "  Downloading peewee-3.18.2.tar.gz (949 kB)\n",
      "     ---------------------------------------- 0.0/949.2 kB ? eta -:--:--\n",
      "     ------------- ------------------------ 337.9/949.2 kB 7.1 MB/s eta 0:00:01\n",
      "     ----------------------------------- -- 890.9/949.2 kB 9.5 MB/s eta 0:00:01\n",
      "     -------------------------------------- 949.2/949.2 kB 8.6 MB/s eta 0:00:00\n",
      "  Installing build dependencies: started\n",
      "  Installing build dependencies: finished with status 'done'\n",
      "  Getting requirements to build wheel: started\n",
      "  Getting requirements to build wheel: finished with status 'done'\n",
      "  Preparing metadata (pyproject.toml): started\n",
      "  Preparing metadata (pyproject.toml): finished with status 'done'\n",
      "Requirement already satisfied: beautifulsoup4>=4.11.1 in c:\\users\\srishti\\anaconda3\\envs\\machinelearning\\lib\\site-packages (from yfinance) (4.12.2)\n",
      "Collecting curl_cffi>=0.7 (from yfinance)\n",
      "  Downloading curl_cffi-0.13.0-cp39-abi3-win_amd64.whl.metadata (13 kB)\n",
      "Requirement already satisfied: protobuf>=3.19.0 in c:\\users\\srishti\\anaconda3\\envs\\machinelearning\\lib\\site-packages (from yfinance) (4.25.3)\n",
      "Requirement already satisfied: websockets>=13.0 in c:\\users\\srishti\\anaconda3\\envs\\machinelearning\\lib\\site-packages (from yfinance) (15.0.1)\n",
      "Requirement already satisfied: python-dateutil>=2.8.2 in c:\\users\\srishti\\anaconda3\\envs\\machinelearning\\lib\\site-packages (from pandas) (2.8.2)\n",
      "Requirement already satisfied: tzdata>=2022.7 in c:\\users\\srishti\\anaconda3\\envs\\machinelearning\\lib\\site-packages (from pandas) (2024.1)\n",
      "Requirement already satisfied: scipy>=1.8.0 in c:\\users\\srishti\\anaconda3\\envs\\machinelearning\\lib\\site-packages (from scikit-learn) (1.16.2)\n",
      "Requirement already satisfied: joblib>=1.2.0 in c:\\users\\srishti\\anaconda3\\envs\\machinelearning\\lib\\site-packages (from scikit-learn) (1.5.2)\n",
      "Requirement already satisfied: threadpoolctl>=3.1.0 in c:\\users\\srishti\\anaconda3\\envs\\machinelearning\\lib\\site-packages (from scikit-learn) (3.6.0)\n",
      "Requirement already satisfied: contourpy>=1.0.1 in c:\\users\\srishti\\anaconda3\\envs\\machinelearning\\lib\\site-packages (from matplotlib) (1.2.1)\n",
      "Requirement already satisfied: cycler>=0.10 in c:\\users\\srishti\\anaconda3\\envs\\machinelearning\\lib\\site-packages (from matplotlib) (0.12.1)\n",
      "Requirement already satisfied: fonttools>=4.22.0 in c:\\users\\srishti\\anaconda3\\envs\\machinelearning\\lib\\site-packages (from matplotlib) (4.50.0)\n",
      "Requirement already satisfied: kiwisolver>=1.3.1 in c:\\users\\srishti\\anaconda3\\envs\\machinelearning\\lib\\site-packages (from matplotlib) (1.4.5)\n",
      "Requirement already satisfied: packaging>=20.0 in c:\\users\\srishti\\anaconda3\\envs\\machinelearning\\lib\\site-packages (from matplotlib) (23.2)\n",
      "Requirement already satisfied: pillow>=8 in c:\\users\\srishti\\anaconda3\\envs\\machinelearning\\lib\\site-packages (from matplotlib) (11.3.0)\n",
      "Requirement already satisfied: pyparsing>=2.3.1 in c:\\users\\srishti\\anaconda3\\envs\\machinelearning\\lib\\site-packages (from matplotlib) (3.1.2)\n",
      "Requirement already satisfied: soupsieve>1.2 in c:\\users\\srishti\\anaconda3\\envs\\machinelearning\\lib\\site-packages (from beautifulsoup4>=4.11.1->yfinance) (2.5)\n",
      "Requirement already satisfied: cffi>=1.12.0 in c:\\users\\srishti\\anaconda3\\envs\\machinelearning\\lib\\site-packages (from curl_cffi>=0.7->yfinance) (1.16.0)\n",
      "Requirement already satisfied: certifi>=2024.2.2 in c:\\users\\srishti\\anaconda3\\envs\\machinelearning\\lib\\site-packages (from curl_cffi>=0.7->yfinance) (2025.8.3)\n",
      "Requirement already satisfied: six>=1.5 in c:\\users\\srishti\\anaconda3\\envs\\machinelearning\\lib\\site-packages (from python-dateutil>=2.8.2->pandas) (1.16.0)\n",
      "Requirement already satisfied: charset_normalizer<4,>=2 in c:\\users\\srishti\\anaconda3\\envs\\machinelearning\\lib\\site-packages (from requests>=2.31->yfinance) (3.4.3)\n",
      "Requirement already satisfied: idna<4,>=2.5 in c:\\users\\srishti\\anaconda3\\envs\\machinelearning\\lib\\site-packages (from requests>=2.31->yfinance) (3.10)\n",
      "Requirement already satisfied: urllib3<3,>=1.21.1 in c:\\users\\srishti\\anaconda3\\envs\\machinelearning\\lib\\site-packages (from requests>=2.31->yfinance) (2.2.1)\n",
      "Requirement already satisfied: pycparser in c:\\users\\srishti\\anaconda3\\envs\\machinelearning\\lib\\site-packages (from cffi>=1.12.0->curl_cffi>=0.7->yfinance) (2.21)\n",
      "Downloading yfinance-0.2.66-py2.py3-none-any.whl (123 kB)\n",
      "   ---------------------------------------- 0.0/123.4 kB ? eta -:--:--\n",
      "   ---------------------------------------- 123.4/123.4 kB 7.5 MB/s eta 0:00:00\n",
      "Downloading curl_cffi-0.13.0-cp39-abi3-win_amd64.whl (1.6 MB)\n",
      "   ---------------------------------------- 0.0/1.6 MB ? eta -:--:--\n",
      "   --------------- ------------------------ 0.6/1.6 MB 13.5 MB/s eta 0:00:01\n",
      "   ---------------------------------------  1.6/1.6 MB 17.0 MB/s eta 0:00:01\n",
      "   ---------------------------------------- 1.6/1.6 MB 14.6 MB/s eta 0:00:00\n",
      "Downloading frozendict-2.4.6-py311-none-any.whl (16 kB)\n",
      "Building wheels for collected packages: multitasking, peewee\n",
      "  Building wheel for multitasking (setup.py): started\n",
      "  Building wheel for multitasking (setup.py): finished with status 'done'\n",
      "  Created wheel for multitasking: filename=multitasking-0.0.12-py3-none-any.whl size=15616 sha256=afaf15b1d650fe8298f421135275fa5c66b6ce97216fc42e085fc864b8f12925\n",
      "  Stored in directory: c:\\users\\srishti\\appdata\\local\\pip\\cache\\wheels\\42\\d6\\84\\bf57a755f4569494cd00de4bb46ef064874823f4d19c82e960\n",
      "  Building wheel for peewee (pyproject.toml): started\n",
      "  Building wheel for peewee (pyproject.toml): finished with status 'done'\n",
      "  Created wheel for peewee: filename=peewee-3.18.2-py3-none-any.whl size=139153 sha256=239eb1ae4028ad009f6734529266611cccf56e35f00fda4d418794539cadeda0\n",
      "  Stored in directory: c:\\users\\srishti\\appdata\\local\\pip\\cache\\wheels\\28\\84\\61\\758d1bd7b9c9d700158c8642a8aff2a9bf2e1ae69641c40784\n",
      "Successfully built multitasking peewee\n",
      "Installing collected packages: peewee, multitasking, frozendict, curl_cffi, yfinance\n",
      "Successfully installed curl_cffi-0.13.0 frozendict-2.4.6 multitasking-0.0.12 peewee-3.18.2 yfinance-0.2.66\n",
      "Note: you may need to restart the kernel to use updated packages.\n"
     ]
    }
   ],
   "source": [
    "pip install yfinance pandas numpy scikit-learn matplotlib"
   ]
  },
  {
   "cell_type": "code",
   "execution_count": 1,
   "id": "c44bea2a",
   "metadata": {},
   "outputs": [],
   "source": [
    "import yfinance as yf\n",
    "import pandas as pd\n",
    "import numpy as np\n",
    "from sklearn.model_selection import train_test_split\n",
    "from sklearn.ensemble import RandomForestRegressor\n",
    "from sklearn.metrics import mean_squared_error\n",
    "import matplotlib.pyplot as plt"
   ]
  },
  {
   "cell_type": "code",
   "execution_count": 2,
   "id": "2d767e5a",
   "metadata": {},
   "outputs": [
    {
     "name": "stderr",
     "output_type": "stream",
     "text": [
      "C:\\Users\\srishti\\AppData\\Local\\Temp\\ipykernel_10508\\2769202536.py:2: FutureWarning: YF.download() has changed argument auto_adjust default to True\n",
      "  data = yf.download(\"AAPL\", start=\"2015-01-01\", end=\"2025-01-01\")\n",
      "[*********************100%***********************]  1 of 1 completed"
     ]
    },
    {
     "name": "stdout",
     "output_type": "stream",
     "text": [
      "Price           Close       High        Low       Open     Volume\n",
      "Ticker           AAPL       AAPL       AAPL       AAPL       AAPL\n",
      "Date                                                             \n",
      "2015-01-02  24.261055  24.729278  23.821679  24.718182  212818400\n",
      "2015-01-05  23.577574  24.110150  23.391173  24.030263  257142000\n",
      "2015-01-06  23.579792  23.839422  23.218083  23.641926  263188400\n",
      "2015-01-07  23.910440  24.010298  23.677438  23.788391  160423600\n",
      "2015-01-08  24.829128  24.886824  24.121246  24.238858  237458000\n"
     ]
    },
    {
     "name": "stderr",
     "output_type": "stream",
     "text": [
      "\n"
     ]
    }
   ],
   "source": [
    "# Example: Fetch Apple's stock data (AAPL)\n",
    "data = yf.download(\"AAPL\", start=\"2015-01-01\", end=\"2025-01-01\")\n",
    "print(data.head())"
   ]
  },
  {
   "cell_type": "code",
   "execution_count": 3,
   "id": "386a4dc4",
   "metadata": {},
   "outputs": [
    {
     "name": "stderr",
     "output_type": "stream",
     "text": [
      "C:\\Users\\srishti\\AppData\\Local\\Temp\\ipykernel_10508\\2400103832.py:11: FutureWarning: YF.download() has changed argument auto_adjust default to True\n",
      "  data = yf.download(ticker, period=\"1y\", interval=\"1d\")\n",
      "[*********************100%***********************]  1 of 1 completed\n",
      "C:\\Users\\srishti\\AppData\\Local\\Temp\\ipykernel_10508\\2400103832.py:11: FutureWarning: YF.download() has changed argument auto_adjust default to True\n",
      "  data = yf.download(ticker, period=\"1y\", interval=\"1d\")\n",
      "[*********************100%***********************]  1 of 1 completed\n",
      "C:\\Users\\srishti\\AppData\\Local\\Temp\\ipykernel_10508\\2400103832.py:11: FutureWarning: YF.download() has changed argument auto_adjust default to True\n",
      "  data = yf.download(ticker, period=\"1y\", interval=\"1d\")\n",
      "[*********************100%***********************]  1 of 1 completed\n",
      "C:\\Users\\srishti\\AppData\\Local\\Temp\\ipykernel_10508\\2400103832.py:11: FutureWarning: YF.download() has changed argument auto_adjust default to True\n",
      "  data = yf.download(ticker, period=\"1y\", interval=\"1d\")\n",
      "[*********************100%***********************]  1 of 1 completed\n",
      "C:\\Users\\srishti\\AppData\\Local\\Temp\\ipykernel_10508\\2400103832.py:11: FutureWarning: YF.download() has changed argument auto_adjust default to True\n",
      "  data = yf.download(ticker, period=\"1y\", interval=\"1d\")\n",
      "[*********************100%***********************]  1 of 1 completed\n",
      "C:\\Users\\srishti\\AppData\\Local\\Temp\\ipykernel_10508\\2400103832.py:11: FutureWarning: YF.download() has changed argument auto_adjust default to True\n",
      "  data = yf.download(ticker, period=\"1y\", interval=\"1d\")\n",
      "[*********************100%***********************]  1 of 1 completed\n",
      "C:\\Users\\srishti\\AppData\\Local\\Temp\\ipykernel_10508\\2400103832.py:11: FutureWarning: YF.download() has changed argument auto_adjust default to True\n",
      "  data = yf.download(ticker, period=\"1y\", interval=\"1d\")\n",
      "[*********************100%***********************]  1 of 1 completed\n",
      "C:\\Users\\srishti\\AppData\\Local\\Temp\\ipykernel_10508\\2400103832.py:11: FutureWarning: YF.download() has changed argument auto_adjust default to True\n",
      "  data = yf.download(ticker, period=\"1y\", interval=\"1d\")\n",
      "[*********************100%***********************]  1 of 1 completed\n",
      "C:\\Users\\srishti\\AppData\\Local\\Temp\\ipykernel_10508\\2400103832.py:11: FutureWarning: YF.download() has changed argument auto_adjust default to True\n",
      "  data = yf.download(ticker, period=\"1y\", interval=\"1d\")\n",
      "[*********************100%***********************]  1 of 1 completed\n",
      "C:\\Users\\srishti\\AppData\\Local\\Temp\\ipykernel_10508\\2400103832.py:11: FutureWarning: YF.download() has changed argument auto_adjust default to True\n",
      "  data = yf.download(ticker, period=\"1y\", interval=\"1d\")\n",
      "[*********************100%***********************]  1 of 1 completed\n"
     ]
    },
    {
     "name": "stdout",
     "output_type": "stream",
     "text": [
      "  Ticker  MeanReturn  Volatility   Beta                  Sector      MarketCap\n",
      "0   AAPL    0.200645    0.326936  1.094              Technology  3991873257472\n",
      "1   MSFT    0.281247    0.247430  1.023              Technology  4036352540672\n",
      "2    JNJ    0.199235    0.192147  0.392              Healthcare   451164602368\n",
      "3   NVDA    0.448908    0.492667  2.123              Technology  4729648185344\n",
      "4   TSLA    0.802100    0.676520  2.086       Consumer Cyclical  1544344174592\n",
      "5   AMZN    0.253407    0.339881  1.281       Consumer Cyclical  2439768178688\n",
      "6     PG   -0.060310    0.185758  0.364      Consumer Defensive   356842569728\n",
      "7    XOM    0.033611    0.233361  0.484                  Energy   492213207040\n",
      "8   META    0.334596    0.365824  1.203  Communication Services  1890022195200\n",
      "9   NFLX    0.441130    0.327753  1.593  Communication Services   465936056320\n"
     ]
    }
   ],
   "source": [
    "import yfinance as yf\n",
    "import pandas as pd\n",
    "import numpy as np\n",
    "\n",
    "tickers = [\"AAPL\", \"MSFT\", \"JNJ\", \"NVDA\", \"TSLA\", \"AMZN\", \"PG\", \"XOM\", \"META\", \"NFLX\"]\n",
    "\n",
    "\n",
    "def get_stock_data(tickers):\n",
    "    stocks = []\n",
    "    for ticker in tickers:\n",
    "        data = yf.download(ticker, period=\"1y\", interval=\"1d\")\n",
    "        data[\"Returns\"] = data[\"Close\"].pct_change()\n",
    "        volatility = np.std(data[\"Returns\"]) * np.sqrt(252)  # annualized volatility\n",
    "        mean_return = data[\"Returns\"].mean() * 252  # annualized return\n",
    "        info = yf.Ticker(ticker).info\n",
    "        stocks.append(\n",
    "            {\n",
    "                \"Ticker\": ticker,\n",
    "                \"MeanReturn\": mean_return,\n",
    "                \"Volatility\": volatility,\n",
    "                \"Beta\": info.get(\"beta\", np.nan),\n",
    "                \"Sector\": info.get(\"sector\", \"Unknown\"),\n",
    "                \"MarketCap\": info.get(\"marketCap\", 0),\n",
    "            }\n",
    "        )\n",
    "    return pd.DataFrame(stocks)\n",
    "\n",
    "\n",
    "df = get_stock_data(tickers)\n",
    "print(df)"
   ]
  },
  {
   "cell_type": "code",
   "execution_count": 4,
   "id": "8eb800e6",
   "metadata": {},
   "outputs": [
    {
     "name": "stdout",
     "output_type": "stream",
     "text": [
      "  Ticker  Volatility RiskCategory\n",
      "0   AAPL    0.326936       Medium\n",
      "1   MSFT    0.247430          Low\n",
      "2    JNJ    0.192147          Low\n",
      "3   NVDA    0.492667         High\n",
      "4   TSLA    0.676520         High\n",
      "5   AMZN    0.339881       Medium\n",
      "6     PG    0.185758          Low\n",
      "7    XOM    0.233361          Low\n",
      "8   META    0.365824       Medium\n",
      "9   NFLX    0.327753       Medium\n"
     ]
    }
   ],
   "source": [
    "def categorize_risk(row):\n",
    "    if row[\"Volatility\"] < 0.25:\n",
    "        return \"Low\"\n",
    "    elif row[\"Volatility\"] < 0.40:\n",
    "        return \"Medium\"\n",
    "    else:\n",
    "        return \"High\"\n",
    "\n",
    "\n",
    "df[\"RiskCategory\"] = df.apply(categorize_risk, axis=1)\n",
    "print(df[[\"Ticker\", \"Volatility\", \"RiskCategory\"]])"
   ]
  },
  {
   "cell_type": "code",
   "execution_count": 5,
   "id": "1ad24f75",
   "metadata": {},
   "outputs": [
    {
     "name": "stdout",
     "output_type": "stream",
     "text": [
      "  AgeGroup      Horizon    Experience Income RiskTolerance RecommendedRisk  \\\n",
      "0      50+  Medium Term      Beginner    <5L           Low             Low   \n",
      "1    18-25    Long Term      Advanced  5-10L        Medium          Medium   \n",
      "2      50+   Short Term      Advanced   20L+          High            High   \n",
      "3    18-25   Short Term      Beginner   20L+          High            High   \n",
      "4    35-50    Long Term  Intermediate    <5L           Low             Low   \n",
      "\n",
      "  Ticker  \n",
      "0     PG  \n",
      "1   AAPL  \n",
      "2   TSLA  \n",
      "3   TSLA  \n",
      "4   MSFT  \n"
     ]
    }
   ],
   "source": [
    "profiles = []\n",
    "\n",
    "age_groups = [\"18-25\", \"25-35\", \"35-50\", \"50+\"]\n",
    "horizons = [\"Short Term\", \"Medium Term\", \"Long Term\"]\n",
    "experience = [\"Beginner\", \"Intermediate\", \"Advanced\"]\n",
    "incomes = [\"<5L\", \"5-10L\", \"10-20L\", \"20L+\"]\n",
    "risk_tolerance = [\"Low\", \"Medium\", \"High\"]\n",
    "\n",
    "import random\n",
    "\n",
    "for _ in range(500):  # 500 synthetic samples\n",
    "    profile = {\n",
    "        \"AgeGroup\": random.choice(age_groups),\n",
    "        \"Horizon\": random.choice(horizons),\n",
    "        \"Experience\": random.choice(experience),\n",
    "        \"Income\": random.choice(incomes),\n",
    "        \"RiskTolerance\": random.choice(risk_tolerance),\n",
    "    }\n",
    "    # Map user risk to stock risk\n",
    "    profile[\"RecommendedRisk\"] = profile[\"RiskTolerance\"]\n",
    "    # Randomly assign one stock from that risk category\n",
    "    stock = df[df[\"RiskCategory\"] == profile[\"RecommendedRisk\"]].sample(1)\n",
    "    profile[\"Ticker\"] = stock[\"Ticker\"].values[0]\n",
    "    profiles.append(profile)\n",
    "\n",
    "train_df = pd.DataFrame(profiles)\n",
    "print(train_df.head())"
   ]
  },
  {
   "cell_type": "code",
   "execution_count": 6,
   "id": "158fe959",
   "metadata": {},
   "outputs": [
    {
     "name": "stdout",
     "output_type": "stream",
     "text": [
      "Accuracy: 0.33\n"
     ]
    }
   ],
   "source": [
    "from sklearn.preprocessing import LabelEncoder\n",
    "from sklearn.ensemble import RandomForestClassifier\n",
    "from sklearn.model_selection import train_test_split\n",
    "from sklearn.metrics import accuracy_score\n",
    "\n",
    "encoders = {}\n",
    "for col in [\"AgeGroup\", \"Horizon\", \"Experience\", \"Income\", \"RiskTolerance\", \"Ticker\"]:\n",
    "    enc = LabelEncoder()\n",
    "    train_df[col] = enc.fit_transform(train_df[col])\n",
    "    encoders[col] = enc\n",
    "\n",
    "X = train_df[[\"AgeGroup\", \"Horizon\", \"Experience\", \"Income\", \"RiskTolerance\"]]\n",
    "y = train_df[\"Ticker\"]\n",
    "\n",
    "X_train, X_test, y_train, y_test = train_test_split(\n",
    "    X, y, test_size=0.2, random_state=42\n",
    ")\n",
    "model = RandomForestClassifier(n_estimators=200, random_state=42)\n",
    "model.fit(X_train, y_train)\n",
    "\n",
    "y_pred = model.predict(X_test)\n",
    "print(\"Accuracy:\", accuracy_score(y_test, y_pred))"
   ]
  },
  {
   "cell_type": "code",
   "execution_count": 7,
   "id": "8fa89185",
   "metadata": {},
   "outputs": [
    {
     "name": "stdout",
     "output_type": "stream",
     "text": [
      "Recommended Stock: AAPL\n"
     ]
    }
   ],
   "source": [
    "new_user = {\n",
    "    \"AgeGroup\": \"25-35\",\n",
    "    \"Horizon\": \"Long Term\",\n",
    "    \"Experience\": \"Intermediate\",\n",
    "    \"Income\": \"10-20L\",\n",
    "    \"RiskTolerance\": \"Medium\",\n",
    "}\n",
    "\n",
    "# Encode input\n",
    "input_df = pd.DataFrame([new_user])\n",
    "for col in input_df.columns:\n",
    "    input_df[col] = encoders[col].transform(input_df[col])\n",
    "\n",
    "pred_ticker_encoded = model.predict(input_df)[0]\n",
    "pred_ticker = encoders[\"Ticker\"].inverse_transform([pred_ticker_encoded])[0]\n",
    "\n",
    "print(f\"Recommended Stock: {pred_ticker}\")"
   ]
  },
  {
   "cell_type": "code",
   "execution_count": 8,
   "id": "267022de",
   "metadata": {},
   "outputs": [
    {
     "name": "stdout",
     "output_type": "stream",
     "text": [
      "\n",
      "Top 6 Stocks Suggested by Model:\n",
      "AAPL  —  Confidence: 0.70\n",
      "AMZN  —  Confidence: 0.13\n",
      "META  —  Confidence: 0.11\n",
      "MSFT  —  Confidence: 0.05\n",
      "PG  —  Confidence: 0.01\n",
      "XOM  —  Confidence: 0.00\n"
     ]
    }
   ],
   "source": [
    "probs = model.predict_proba(input_df)[0]\n",
    "top_indices = probs.argsort()[-6:][::-1]  # top 6\n",
    "top_tickers = encoders[\"Ticker\"].inverse_transform(top_indices)\n",
    "\n",
    "print(\"\\nTop 6 Stocks Suggested by Model:\")\n",
    "for ticker, prob in zip(top_tickers, probs[top_indices]):\n",
    "    print(f\"{ticker}  —  Confidence: {prob:.2f}\")"
   ]
  },
  {
   "cell_type": "code",
   "execution_count": 12,
   "id": "23c5a970",
   "metadata": {},
   "outputs": [
    {
     "name": "stdout",
     "output_type": "stream",
     "text": [
      "\n",
      "=== Investor Profile Quiz ===\n",
      "\n",
      "Encoded features: [[3 2 0 1 1]]\n",
      "Model prediction: 2\n",
      "\n",
      "=== Suggested Stocks ===\n",
      "- TSLA\n",
      "- META\n",
      "- NFLX\n",
      "- ADBE\n",
      "- AMD\n"
     ]
    },
    {
     "name": "stderr",
     "output_type": "stream",
     "text": [
      "c:\\Users\\srishti\\anaconda3\\envs\\MachineLearning\\Lib\\site-packages\\sklearn\\utils\\validation.py:2749: UserWarning: X does not have valid feature names, but RandomForestClassifier was fitted with feature names\n",
      "  warnings.warn(\n"
     ]
    }
   ],
   "source": [
    "import numpy as np\n",
    "\n",
    "# assume your trained model is called `model`\n",
    "# (no need to reload it!)\n",
    "\n",
    "print(\"\\n=== Investor Profile Quiz ===\")\n",
    "age_group = input(\"Age Group (18-25 / 26-40 / 41-60 / 60+): \").strip()\n",
    "investment_horizon = input(\n",
    "    \"Investment Horizon (Short-term / Medium-term / Long-term): \"\n",
    ").strip()\n",
    "financial_experience = input(\n",
    "    \"Financial Experience (Beginner / Intermediate / Expert): \"\n",
    ").strip()\n",
    "annual_income = input(\"Annual Income (Below 5L / 5L-10L / 10L-25L / 25L+): \").strip()\n",
    "risk_tolerance = input(\"Risk Tolerance (Low / Medium / High): \").strip()\n",
    "\n",
    "# same encoding logic you used during training\n",
    "mapping = {\n",
    "    \"Low\": 0,\n",
    "    \"Medium\": 1,\n",
    "    \"High\": 2,\n",
    "    \"Beginner\": 0,\n",
    "    \"Intermediate\": 1,\n",
    "    \"Expert\": 2,\n",
    "    \"Short-term\": 0,\n",
    "    \"Medium-term\": 1,\n",
    "    \"Long-term\": 2,\n",
    "    \"18-25\": 0,\n",
    "    \"26-40\": 1,\n",
    "    \"41-60\": 2,\n",
    "    \"60+\": 3,\n",
    "    \"Below 5L\": 0,\n",
    "    \"5L-10L\": 1,\n",
    "    \"10L-25L\": 2,\n",
    "    \"25L+\": 3,\n",
    "}\n",
    "\n",
    "# build feature vector\n",
    "features = np.array(\n",
    "    [\n",
    "        mapping.get(age_group, 0),\n",
    "        mapping.get(investment_horizon, 0),\n",
    "        mapping.get(financial_experience, 0),\n",
    "        mapping.get(annual_income, 0),\n",
    "        mapping.get(risk_tolerance, 0),\n",
    "    ]\n",
    ").reshape(1, -1)\n",
    "\n",
    "print(\"\\nEncoded features:\", features)\n",
    "\n",
    "# make a prediction using your already-defined model\n",
    "prediction = model.predict(features)[0]\n",
    "print(\"Model prediction:\", prediction)\n",
    "\n",
    "# map predicted class → stock suggestions\n",
    "stock_map = {\n",
    "    0: [\"AAPL\", \"MSFT\", \"GOOGL\", \"AMZN\", \"NVDA\"],\n",
    "    1: [\"TCS.NS\", \"INFY.NS\", \"HDFCBANK.NS\", \"RELIANCE.NS\", \"ICICIBANK.NS\"],\n",
    "    2: [\"TSLA\", \"META\", \"NFLX\", \"ADBE\", \"AMD\"],\n",
    "    3: [\"BA\", \"NKE\", \"KO\", \"PEP\", \"MCD\"],\n",
    "    4: [\"JPM\", \"GS\", \"BAC\", \"MS\", \"V\"],\n",
    "    5: [\"UNH\", \"PFE\", \"JNJ\", \"MRK\", \"LLY\"],\n",
    "    6: [\"XOM\", \"CVX\", \"BP\", \"SHEL\", \"TOT\"],\n",
    "    7: [\"PG\", \"COST\", \"WMT\", \"TGT\", \"HD\"],\n",
    "}\n",
    "\n",
    "try:\n",
    "    pred_class = int(prediction)\n",
    "except:\n",
    "    pred_class = 0\n",
    "\n",
    "suggested = stock_map.get(pred_class, stock_map[0])\n",
    "\n",
    "print(\"\\n=== Suggested Stocks ===\")\n",
    "for s in suggested:\n",
    "    print(\"-\", s)"
   ]
  },
  {
   "cell_type": "code",
   "execution_count": 11,
   "id": "474df570",
   "metadata": {},
   "outputs": [
    {
     "name": "stdout",
     "output_type": "stream",
     "text": [
      "\n",
      "=== Investor Profile Quiz ===\n",
      "\n",
      "Encoded features: [[0 0 2 1 1]]\n",
      "Model prediction: 4\n",
      "\n",
      "=== Suggested Stocks ===\n",
      "- JPM\n",
      "- GS\n",
      "- BAC\n",
      "- MS\n",
      "- V\n"
     ]
    },
    {
     "name": "stderr",
     "output_type": "stream",
     "text": [
      "c:\\Users\\srishti\\anaconda3\\envs\\MachineLearning\\Lib\\site-packages\\sklearn\\utils\\validation.py:2749: UserWarning: X does not have valid feature names, but RandomForestClassifier was fitted with feature names\n",
      "  warnings.warn(\n"
     ]
    }
   ],
   "source": [
    "import numpy as np\n",
    "\n",
    "# assume your trained model variable is called `model`\n",
    "# (no need to reload or retrain)\n",
    "\n",
    "print(\"\\n=== Investor Profile Quiz ===\")\n",
    "age_group = input(\"Age Group (18-25 / 26-40 / 41-60 / 60+): \").strip()\n",
    "investment_horizon = input(\n",
    "    \"Investment Horizon (Short-term / Medium-term / Long-term): \"\n",
    ").strip()\n",
    "financial_experience = input(\n",
    "    \"Financial Experience (Beginner / Intermediate / Expert): \"\n",
    ").strip()\n",
    "annual_income = input(\"Annual Income (Below 5L / 5L-10L / 10L-25L / 25L+): \").strip()\n",
    "risk_tolerance = input(\"Risk Tolerance (Low / Medium / High): \").strip()\n",
    "\n",
    "# same encoding logic used during training\n",
    "mapping = {\n",
    "    \"Low\": 0,\n",
    "    \"Medium\": 1,\n",
    "    \"High\": 2,\n",
    "    \"Beginner\": 0,\n",
    "    \"Intermediate\": 1,\n",
    "    \"Expert\": 2,\n",
    "    \"Short-term\": 0,\n",
    "    \"Medium-term\": 1,\n",
    "    \"Long-term\": 2,\n",
    "    \"18-25\": 0,\n",
    "    \"26-40\": 1,\n",
    "    \"41-60\": 2,\n",
    "    \"60+\": 3,\n",
    "    \"Below 5L\": 0,\n",
    "    \"5L-10L\": 1,\n",
    "    \"10L-25L\": 2,\n",
    "    \"25L+\": 3,\n",
    "}\n",
    "\n",
    "# build feature vector\n",
    "features = np.array(\n",
    "    [\n",
    "        mapping.get(age_group, 0),\n",
    "        mapping.get(investment_horizon, 0),\n",
    "        mapping.get(financial_experience, 0),\n",
    "        mapping.get(annual_income, 0),\n",
    "        mapping.get(risk_tolerance, 0),\n",
    "    ]\n",
    ").reshape(1, -1)\n",
    "\n",
    "print(\"\\nEncoded features:\", features)\n",
    "\n",
    "# make prediction\n",
    "prediction = model.predict(features)[0]\n",
    "print(\"Model prediction:\", prediction)\n",
    "\n",
    "# 🟣 UPDATED STOCK MAP (Option A)\n",
    "stock_map = {\n",
    "    0: [\"AAPL\", \"MSFT\", \"GOOGL\", \"AMZN\", \"NVDA\"],  # Tech\n",
    "    1: [\n",
    "        \"TCS.NS\",\n",
    "        \"INFY.NS\",\n",
    "        \"HDFCBANK.NS\",\n",
    "        \"RELIANCE.NS\",\n",
    "        \"ICICIBANK.NS\",\n",
    "    ],  # India blue chips\n",
    "    2: [\"TSLA\", \"META\", \"NFLX\", \"ADBE\", \"AMD\"],  # Growth\n",
    "    3: [\"BA\", \"NKE\", \"KO\", \"PEP\", \"MCD\"],  # Consumer\n",
    "    4: [\"JPM\", \"GS\", \"BAC\", \"MS\", \"V\"],  # Finance\n",
    "    5: [\"UNH\", \"PFE\", \"JNJ\", \"MRK\", \"LLY\"],  # Healthcare\n",
    "    6: [\"XOM\", \"CVX\", \"BP\", \"SHEL\", \"TOT\"],  # Energy\n",
    "    7: [\"PG\", \"COST\", \"WMT\", \"TGT\", \"HD\"],  # Retail\n",
    "    8: [\"INTC\", \"IBM\", \"ORCL\", \"SAP\", \"CSCO\"],  # Enterprise Tech\n",
    "    9: [\"AMAT\", \"ASML\", \"LRCX\", \"TXN\", \"QCOM\"],  # Semiconductor/Hardware\n",
    "}\n",
    "\n",
    "# convert prediction safely\n",
    "try:\n",
    "    pred_class = int(prediction)\n",
    "except:\n",
    "    pred_class = 0\n",
    "\n",
    "# get corresponding stocks\n",
    "suggested = stock_map.get(pred_class, stock_map[0])\n",
    "\n",
    "print(\"\\n=== Suggested Stocks ===\")\n",
    "for s in suggested:\n",
    "    print(\"-\", s)"
   ]
  },
  {
   "cell_type": "code",
   "execution_count": null,
   "id": "d95cda46",
   "metadata": {},
   "outputs": [],
   "source": [
    "# import pickle\n",
    "\n",
    "# with open(\"model.pkl\", \"wb\") as f:\n",
    "#     pickle.dump(model, f)\n",
    "\n",
    "# with open(\"encoders.pkl\", \"wb\") as f:\n",
    "#     pickle.dump(encoders, f)"
   ]
  },
  {
   "cell_type": "code",
   "execution_count": 13,
   "id": "21b0be8a",
   "metadata": {},
   "outputs": [
    {
     "name": "stdout",
     "output_type": "stream",
     "text": [
      "✅ Model saved as model.pkl\n"
     ]
    }
   ],
   "source": [
    "import joblib\n",
    "\n",
    "# Save the trained model\n",
    "joblib.dump(model, \"model.pkl\")\n",
    "\n",
    "print(\"✅ Model saved as model.pkl\")"
   ]
  }
 ],
 "metadata": {
  "kernelspec": {
   "display_name": "MachineLearning",
   "language": "python",
   "name": "python3"
  },
  "language_info": {
   "codemirror_mode": {
    "name": "ipython",
    "version": 3
   },
   "file_extension": ".py",
   "mimetype": "text/x-python",
   "name": "python",
   "nbconvert_exporter": "python",
   "pygments_lexer": "ipython3",
   "version": "3.11.8"
  }
 },
 "nbformat": 4,
 "nbformat_minor": 5
}
